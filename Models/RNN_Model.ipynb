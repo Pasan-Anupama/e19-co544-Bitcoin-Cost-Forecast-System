{
  "nbformat": 4,
  "nbformat_minor": 0,
  "metadata": {
    "colab": {
      "provenance": [],
      "authorship_tag": "ABX9TyOqW3LJQz5Dl+4scIDmxShv",
      "include_colab_link": true
    },
    "kernelspec": {
      "name": "python3",
      "display_name": "Python 3"
    },
    "language_info": {
      "name": "python"
    }
  },
  "cells": [
    {
      "cell_type": "markdown",
      "metadata": {
        "id": "view-in-github",
        "colab_type": "text"
      },
      "source": [
        "<a href=\"https://colab.research.google.com/github/cepdnaclk/e19-co544-Bitcoin-Cost-Forecast-System/blob/main/Models/RNN_Model.ipynb\" target=\"_parent\"><img src=\"https://colab.research.google.com/assets/colab-badge.svg\" alt=\"Open In Colab\"/></a>"
      ]
    },
    {
      "cell_type": "markdown",
      "source": [
        "# Import Necessary Libraries"
      ],
      "metadata": {
        "id": "7EcAnWxoT92d"
      }
    },
    {
      "cell_type": "code",
      "execution_count": 6,
      "metadata": {
        "id": "O1FG7VX1Tjzy",
        "colab": {
          "base_uri": "https://localhost:8080/",
          "height": 17
        },
        "outputId": "766383b3-6c71-42c2-9cb3-52e2f6393d40"
      },
      "outputs": [
        {
          "output_type": "display_data",
          "data": {
            "text/html": [
              "        <script type=\"text/javascript\">\n",
              "        window.PlotlyConfig = {MathJaxConfig: 'local'};\n",
              "        if (window.MathJax && window.MathJax.Hub && window.MathJax.Hub.Config) {window.MathJax.Hub.Config({SVG: {font: \"STIX-Web\"}});}\n",
              "        if (typeof require !== 'undefined') {\n",
              "        require.undef(\"plotly\");\n",
              "        requirejs.config({\n",
              "            paths: {\n",
              "                'plotly': ['https://cdn.plot.ly/plotly-2.24.1.min']\n",
              "            }\n",
              "        });\n",
              "        require(['plotly'], function(Plotly) {\n",
              "            window._Plotly = Plotly;\n",
              "        });\n",
              "        }\n",
              "        </script>\n",
              "        "
            ]
          },
          "metadata": {}
        }
      ],
      "source": [
        "import warnings  # Import the warnings module\n",
        "warnings.filterwarnings(\"ignore\")  # Ignore all warnings\n",
        "\n",
        "import numpy as np  # Import numpy for numerical computing\n",
        "import pandas as pd  # Import pandas for data manipulation\n",
        "import statsmodels.api as sm  # Import statmodels for statistical models\n",
        "from scipy import stats  # Import stats from SciPy for statistical functions\n",
        "from sklearn.metrics import mean_squared_error  # Import mean_squared_error from sklearn for model evaluation\n",
        "from math import sqrt  # Import sqrt from math for square root function\n",
        "from random import randint  # Import randint from random for generating random integers\n",
        "\n",
        "from keras.models import Sequential  # Import Sequential from keras for sequential model\n",
        "from keras.layers import Dense  # Import Dense from keras for fully connected layers\n",
        "from keras.layers import LSTM  # Import LSTM from keras for LSTM Layers\n",
        "from keras.layers import GRU  # Import GRU from keras for GRU layers\n",
        "from keras.callbacks import EarlyStopping  # Import EarlyStopping from keras for early stopping during model training\n",
        "from keras import initializers  # Import initializers from keras for initializing model parameters\n",
        "\n",
        "from matplotlib import pyplot as plt  # Import pyplot from matplotlib for plotting\n",
        "from datetime import datetime  # Import datetime for date and time operations\n",
        "from datetime import date # Import the date class from the datetime module\n",
        "\n",
        "import plotly.offline as py  # Import offline module from plotly for offline plotting\n",
        "import plotly.graph_objs as go  # Import graph_objs from plotly for creating plots\n",
        "py.init_notebook_mode(connected=True)  # Initialize plotly notebook mode\n",
        "\n",
        "# %matplotlib inline  # Magic command to display matplotlib plots inline in Jupyter notebooks\n"
      ]
    },
    {
      "cell_type": "markdown",
      "source": [
        "# Import the Dataset"
      ],
      "metadata": {
        "id": "tAu3dlMa1A5Z"
      }
    },
    {
      "cell_type": "code",
      "source": [
        "import yfinance as yf  # Import the yfinance module, which allows us to download historical market data from yahoo finance\n",
        "\n",
        "# Define the ticker symbol for BitCoin\n",
        "ticker = 'BTC-USD'  # Assign the string 'BTC-USD' to the variable 'ticker'.\n",
        "\n",
        "# Get historical market data\n",
        "data = yf.Ticker(ticker).history(period = 'max')"
      ],
      "metadata": {
        "id": "WKm_27f41Izp"
      },
      "execution_count": 3,
      "outputs": []
    },
    {
      "cell_type": "markdown",
      "source": [
        "# Average Price"
      ],
      "metadata": {
        "id": "L0SkPVDzuSiV"
      }
    },
    {
      "cell_type": "code",
      "source": [
        "# Group the data by the 'Date' column\n",
        "group = data.groupby('Date')\n",
        "\n",
        "# Calculate the product of price and volume\n",
        "data['PV'] = data['Close'] * data['Volume']\n",
        "\n",
        "# Calculate the cumulative sum of volume\n",
        "data['cumulative_volume'] = data['Volume'].cumsum()\n",
        "\n",
        "# Calculate the cumulative sum of PV\n",
        "data['cumulative_PV'] = data['PV'].cumsum()\n",
        "\n",
        "# Calculate VWAP\n",
        "data['Weighted_Price'] = data['cumulative_PV'] / data['cumulative_volume']\n",
        "\n",
        "Daily_Price = group['Weighted_Price'].mean()\n",
        "\n",
        "Daily_Price.head()\n",
        "\n"
      ],
      "metadata": {
        "colab": {
          "base_uri": "https://localhost:8080/"
        },
        "id": "JRBNLQWHuYa1",
        "outputId": "d09e210f-1f84-47bb-e918-811641c0eafc"
      },
      "execution_count": 4,
      "outputs": [
        {
          "output_type": "execute_result",
          "data": {
            "text/plain": [
              "Date\n",
              "2014-09-17 00:00:00+00:00    457.334015\n",
              "2014-09-18 00:00:00+00:00    436.911062\n",
              "2014-09-19 00:00:00+00:00    419.823580\n",
              "2014-09-20 00:00:00+00:00    416.734836\n",
              "2014-09-21 00:00:00+00:00    413.700159\n",
              "Name: Weighted_Price, dtype: float64"
            ]
          },
          "metadata": {},
          "execution_count": 4
        }
      ]
    },
    {
      "cell_type": "code",
      "source": [
        "Daily_Price.tail()"
      ],
      "metadata": {
        "colab": {
          "base_uri": "https://localhost:8080/"
        },
        "id": "rTuW84iNAi72",
        "outputId": "27d6351d-2613-4fb2-8212-9633616ee14c"
      },
      "execution_count": 5,
      "outputs": [
        {
          "output_type": "execute_result",
          "data": {
            "text/plain": [
              "Date\n",
              "2024-05-16 00:00:00+00:00    29656.120620\n",
              "2024-05-17 00:00:00+00:00    29673.378562\n",
              "2024-05-18 00:00:00+00:00    29683.629636\n",
              "2024-05-19 00:00:00+00:00    29695.219963\n",
              "2024-05-21 00:00:00+00:00    29728.488306\n",
              "Name: Weighted_Price, dtype: float64"
            ]
          },
          "metadata": {},
          "execution_count": 5
        }
      ]
    },
    {
      "cell_type": "markdown",
      "source": [
        "# Split Data"
      ],
      "metadata": {
        "id": "DT5e87WHBOQY"
      }
    },
    {
      "cell_type": "code",
      "source": [
        "# Define two dates\n",
        "d0 = date(2014, 9, 17)  # Start date\n",
        "d1 = date(2024, 5, 21)  # End date\n",
        "\n",
        "# Calculate the difference between the two dates\n",
        "delta = d1 - d0  # This will return a time delta object\n",
        "\n",
        "# Get the number of days from the timedelta object and add 1\n",
        "days_look = delta.days + 1  # The '+ 1' is to include both end dates in the count\n",
        "\n",
        "# Print the result\n",
        "print(days_look)\n",
        "\n",
        "# Repeat the process for a different date range\n",
        "d0 = date(2018, 5, 17)\n",
        "d1 = date(2024, 5, 17)\n",
        "delta = d1 - d0\n",
        "days_from_train = delta.days + 1\n",
        "print(days_from_train)\n",
        "\n",
        "# Repeat the process for another date range\n",
        "d0 = date(2024, 5, 17)\n",
        "d1 = date(2024, 5, 21)\n",
        "delta = d1 - d0\n",
        "days_from_end = delta.days + 1\n",
        "print(days_from_end)\n",
        "\n",
        "# Create the training dataset\n",
        "# The training"
      ],
      "metadata": {
        "colab": {
          "base_uri": "https://localhost:8080/"
        },
        "id": "0t1wXs7WBSu_",
        "outputId": "a3e53532-2960-45e0-8528-e9bfe90e1814"
      },
      "execution_count": 10,
      "outputs": [
        {
          "output_type": "stream",
          "name": "stdout",
          "text": [
            "3535\n",
            "2193\n",
            "5\n"
          ]
        }
      ]
    }
  ]
}