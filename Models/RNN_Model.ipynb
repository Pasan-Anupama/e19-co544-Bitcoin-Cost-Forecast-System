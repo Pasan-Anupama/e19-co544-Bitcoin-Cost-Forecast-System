{
  "nbformat": 4,
  "nbformat_minor": 0,
  "metadata": {
    "colab": {
      "provenance": [],
      "authorship_tag": "ABX9TyOZiFEeuFcvp1pp/O4rkjWx",
      "include_colab_link": true
    },
    "kernelspec": {
      "name": "python3",
      "display_name": "Python 3"
    },
    "language_info": {
      "name": "python"
    }
  },
  "cells": [
    {
      "cell_type": "markdown",
      "metadata": {
        "id": "view-in-github",
        "colab_type": "text"
      },
      "source": [
        "<a href=\"https://colab.research.google.com/github/cepdnaclk/e19-co544-Bitcoin-Cost-Forecast-System/blob/main/Models/RNN_Model.ipynb\" target=\"_parent\"><img src=\"https://colab.research.google.com/assets/colab-badge.svg\" alt=\"Open In Colab\"/></a>"
      ]
    },
    {
      "cell_type": "markdown",
      "source": [
        "# Import Necessary Libraries"
      ],
      "metadata": {
        "id": "7EcAnWxoT92d"
      }
    },
    {
      "cell_type": "code",
      "execution_count": 1,
      "metadata": {
        "id": "O1FG7VX1Tjzy",
        "colab": {
          "base_uri": "https://localhost:8080/",
          "height": 17
        },
        "outputId": "f4f5c66e-9421-4388-b5be-d9a4d42f4183"
      },
      "outputs": [
        {
          "output_type": "display_data",
          "data": {
            "text/html": [
              "        <script type=\"text/javascript\">\n",
              "        window.PlotlyConfig = {MathJaxConfig: 'local'};\n",
              "        if (window.MathJax && window.MathJax.Hub && window.MathJax.Hub.Config) {window.MathJax.Hub.Config({SVG: {font: \"STIX-Web\"}});}\n",
              "        if (typeof require !== 'undefined') {\n",
              "        require.undef(\"plotly\");\n",
              "        requirejs.config({\n",
              "            paths: {\n",
              "                'plotly': ['https://cdn.plot.ly/plotly-2.24.1.min']\n",
              "            }\n",
              "        });\n",
              "        require(['plotly'], function(Plotly) {\n",
              "            window._Plotly = Plotly;\n",
              "        });\n",
              "        }\n",
              "        </script>\n",
              "        "
            ]
          },
          "metadata": {}
        }
      ],
      "source": [
        "import warnings  # Import the warnings module\n",
        "warnings.filterwarnings(\"ignore\")  # Ignore all warnings\n",
        "\n",
        "import numpy as np  # Import numpy for numerical computing\n",
        "import pandas as pd  # Import pandas for data manipulation\n",
        "import statsmodels.api as sm  # Import statmodels for statistical models\n",
        "from scipy import stats  # Import stats from SciPy for statistical functions\n",
        "from sklearn.metrics import mean_squared_error  # Import mean_squared_error from sklearn for model evaluation\n",
        "from math import sqrt  # Import sqrt from math for square root function\n",
        "from random import randint  # Import randint from random for generating random integers\n",
        "\n",
        "from keras.models import Sequential  # Import Sequential from keras for sequential model\n",
        "from keras.layers import Dense  # Import Dense from keras for fully connected layers\n",
        "from keras.layers import LSTM  # Import LSTM from keras for LSTM Layers\n",
        "from keras.layers import GRU  # Import GRU from keras for GRU layers\n",
        "from keras.callbacks import EarlyStopping  # Import EarlyStopping from keras for early stopping during model training\n",
        "from keras import initializers  # Import initializers from keras for initializing model parameters\n",
        "\n",
        "from matplotlib import pyplot as plt  # Import pyplot from matplotlib for plotting\n",
        "from datetime import datetime  # Import datetime for date and time operations\n",
        "\n",
        "import plotly.offline as py  # Import offline module from plotly for offline plotting\n",
        "import plotly.graph_objs as go  # Import graph_objs from plotly for creating plots\n",
        "py.init_notebook_mode(connected=True)  # Initialize plotly notebook mode\n",
        "\n",
        "# %matplotlib inline  # Magic command to display matplotlib plots inline in Jupyter notebooks\n"
      ]
    },
    {
      "cell_type": "markdown",
      "source": [
        "# Import the Dataset"
      ],
      "metadata": {
        "id": "tAu3dlMa1A5Z"
      }
    },
    {
      "cell_type": "code",
      "source": [
        "import yfinance as yf  # Import the yfinance module, which allows us to download historical market data from yahoo finance\n",
        "\n",
        "# Define the ticker symbol for BitCoin\n",
        "ticker = 'BTC-USD'  # Assign the string 'BTC-USD' to the variable 'ticker'.\n",
        "\n",
        "# Get historical market data\n",
        "data = yf.Ticker(ticker).history(period = 'max')"
      ],
      "metadata": {
        "id": "WKm_27f41Izp"
      },
      "execution_count": 3,
      "outputs": []
    },
    {
      "cell_type": "markdown",
      "source": [
        "# Average Price"
      ],
      "metadata": {
        "id": "L0SkPVDzuSiV"
      }
    },
    {
      "cell_type": "code",
      "source": [
        "# Group the data by the 'Date' column\n",
        "group = data.groupby('Date')\n",
        "\n",
        "# Calculate the product of price and volume\n",
        "data['PV'] = data['Close'] * data['Volume']\n",
        "\n",
        "# Calculate the cumulative sum of volume\n",
        "data['cumulative_volume'] = data['Volume'].cumsum()\n",
        "\n",
        "# Calculate the cumulative sum of PV\n",
        "data['cumulative_PV'] = data['PV'].cumsum()\n",
        "\n",
        "# Calculate VWAP\n",
        "data['Weighted_Price'] = data['cumulative_PV'] / data['cumulative_volume']\n",
        "\n",
        "Daily_Price = group['Weighted_Price'].mean()\n",
        "\n",
        "Daily_Price.head()\n",
        "\n"
      ],
      "metadata": {
        "colab": {
          "base_uri": "https://localhost:8080/"
        },
        "id": "JRBNLQWHuYa1",
        "outputId": "26765ef8-592d-4ec8-f21c-be8e4ef8e44c"
      },
      "execution_count": 6,
      "outputs": [
        {
          "output_type": "execute_result",
          "data": {
            "text/plain": [
              "Date\n",
              "2014-09-17 00:00:00+00:00    457.334015\n",
              "2014-09-18 00:00:00+00:00    436.911062\n",
              "2014-09-19 00:00:00+00:00    419.823580\n",
              "2014-09-20 00:00:00+00:00    416.734836\n",
              "2014-09-21 00:00:00+00:00    413.700159\n",
              "Name: Weighted_Price, dtype: float64"
            ]
          },
          "metadata": {},
          "execution_count": 6
        }
      ]
    }
  ]
}