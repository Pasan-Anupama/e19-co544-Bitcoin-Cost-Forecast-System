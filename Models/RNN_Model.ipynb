{
  "nbformat": 4,
  "nbformat_minor": 0,
  "metadata": {
    "colab": {
      "provenance": [],
      "authorship_tag": "ABX9TyP7LjvuTSm0id4+1eRQk//+",
      "include_colab_link": true
    },
    "kernelspec": {
      "name": "python3",
      "display_name": "Python 3"
    },
    "language_info": {
      "name": "python"
    }
  },
  "cells": [
    {
      "cell_type": "markdown",
      "metadata": {
        "id": "view-in-github",
        "colab_type": "text"
      },
      "source": [
        "<a href=\"https://colab.research.google.com/github/cepdnaclk/e19-co544-Bitcoin-Cost-Forecast-System/blob/main/RNN_Model.ipynb\" target=\"_parent\"><img src=\"https://colab.research.google.com/assets/colab-badge.svg\" alt=\"Open In Colab\"/></a>"
      ]
    },
    {
      "cell_type": "markdown",
      "source": [
        "# Import Necessary Libraries"
      ],
      "metadata": {
        "id": "7EcAnWxoT92d"
      }
    },
    {
      "cell_type": "code",
      "execution_count": null,
      "metadata": {
        "id": "O1FG7VX1Tjzy"
      },
      "outputs": [],
      "source": [
        "import warnings  # Import the warnings module\n",
        "warnings.filterwarnings(\"ignore\")  # Ignore all warnings\n",
        "\n",
        "import numpy as np  # Import numpy for numerical computing\n",
        "import pandas as pd  # Import pandas for data manipulation\n",
        "import statsmodels.api as sm  # Import statmodels for statistical models\n",
        "from scipy import stats  # Import stats from SciPy for statistical functions\n",
        "from sklearn.metrics import mean_squared_error  # Import mean_squared_error from sklearn for model evaluation\n",
        "from math import sqrt  # Import sqrt from math for square root function\n",
        "from random import randint  # Import randint from random for generating random integers\n",
        "\n",
        "from keras.models import Sequential  # Import Sequential from keras for sequential model\n",
        "from keras.layers import Dense  # Import Dense from keras for fully connected layers\n"
      ]
    }
  ]
}