{
  "nbformat": 4,
  "nbformat_minor": 0,
  "metadata": {
    "colab": {
      "provenance": []
    },
    "kernelspec": {
      "name": "python3",
      "display_name": "Python 3"
    },
    "language_info": {
      "name": "python"
    }
  },
  "cells": [
    {
      "cell_type": "markdown",
      "source": [
        "# **Import Libraries**"
      ],
      "metadata": {
        "id": "I7E8C8oEau3k"
      }
    },
    {
      "cell_type": "code",
      "execution_count": 29,
      "metadata": {
        "id": "WxdYcfgA60WU"
      },
      "outputs": [],
      "source": [
        " # Import Libraries\n",
        "import numpy as np  # to handle matrix\n",
        "import pandas as pd # to handle data\n",
        "from matplotlib import pyplot as plt # to visualize\n",
        "import datetime, pytz # to handle time\n",
        "from sklearn.model_selection import train_test_split # Split data\n",
        "from sklearn.ensemble import RandomForestRegressor # Random Forest Classifier\n",
        "import yfinance as yf"
      ]
    },
    {
      "cell_type": "markdown",
      "source": [
        "## **Import The datasets Of yahoo finance**\n",
        "\n",
        "\n"
      ],
      "metadata": {
        "id": "Y9eAEvLeARx6"
      }
    },
    {
      "cell_type": "code",
      "source": [
        "# Define the ticker symbol for Bitcoin\n",
        "ticker_symbol = 'BTC-USD'\n",
        "\n",
        "# Fetch data from Yahoo Finance\n",
        "btc_data = yf.download(ticker_symbol, start='2021-01-01', end='2024-01-01')\n",
        "\n",
        "# print(btc_data)\n",
        "\n",
        "# Display the first few rows\n",
        "print(btc_data.head())\n",
        "\n",
        "# Save the data to a CSV file\n",
        "btc_data.to_csv('bitcoin_data.csv')\n"
      ],
      "metadata": {
        "colab": {
          "base_uri": "https://localhost:8080/"
        },
        "id": "xWiJd8gnKNEl",
        "outputId": "f95afada-5cdf-49f4-cef8-d40e5462763d"
      },
      "execution_count": 18,
      "outputs": [
        {
          "output_type": "stream",
          "name": "stderr",
          "text": [
            "\r[*********************100%%**********************]  1 of 1 completed"
          ]
        },
        {
          "output_type": "stream",
          "name": "stdout",
          "text": [
            "                    Open          High           Low         Close  \\\n",
            "Date                                                                 \n",
            "2021-01-01  28994.009766  29600.626953  28803.585938  29374.152344   \n",
            "2021-01-02  29376.455078  33155.117188  29091.181641  32127.267578   \n",
            "2021-01-03  32129.408203  34608.558594  32052.316406  32782.023438   \n",
            "2021-01-04  32810.949219  33440.218750  28722.755859  31971.914062   \n",
            "2021-01-05  31977.041016  34437.589844  30221.187500  33992.429688   \n",
            "\n",
            "               Adj Close       Volume  \n",
            "Date                                   \n",
            "2021-01-01  29374.152344  40730301359  \n",
            "2021-01-02  32127.267578  67865420765  \n",
            "2021-01-03  32782.023438  78665235202  \n",
            "2021-01-04  31971.914062  81163475344  \n",
            "2021-01-05  33992.429688  67547324782  \n"
          ]
        },
        {
          "output_type": "stream",
          "name": "stderr",
          "text": [
            "\n"
          ]
        }
      ]
    },
    {
      "cell_type": "markdown",
      "source": [
        "## **Loading and Inspecting the Data**"
      ],
      "metadata": {
        "id": "v6FwZaJwU5NA"
      }
    },
    {
      "cell_type": "code",
      "source": [
        "import pandas as pd\n",
        "\n",
        "# Load the data\n",
        "btc_data = pd.read_csv('bitcoin_data.csv', parse_dates=['Date'], index_col='Date')\n",
        "\n",
        "# Display the first few rows\n",
        "print(btc_data.head())\n",
        "print(btc_data.info())\n"
      ],
      "metadata": {
        "colab": {
          "base_uri": "https://localhost:8080/"
        },
        "id": "XDXucyScKSpT",
        "outputId": "fc358398-695e-4401-c637-118e8d5456a7"
      },
      "execution_count": 19,
      "outputs": [
        {
          "output_type": "stream",
          "name": "stdout",
          "text": [
            "                    Open          High           Low         Close  \\\n",
            "Date                                                                 \n",
            "2021-01-01  28994.009766  29600.626953  28803.585938  29374.152344   \n",
            "2021-01-02  29376.455078  33155.117188  29091.181641  32127.267578   \n",
            "2021-01-03  32129.408203  34608.558594  32052.316406  32782.023438   \n",
            "2021-01-04  32810.949219  33440.218750  28722.755859  31971.914062   \n",
            "2021-01-05  31977.041016  34437.589844  30221.187500  33992.429688   \n",
            "\n",
            "               Adj Close       Volume  \n",
            "Date                                   \n",
            "2021-01-01  29374.152344  40730301359  \n",
            "2021-01-02  32127.267578  67865420765  \n",
            "2021-01-03  32782.023438  78665235202  \n",
            "2021-01-04  31971.914062  81163475344  \n",
            "2021-01-05  33992.429688  67547324782  \n",
            "<class 'pandas.core.frame.DataFrame'>\n",
            "DatetimeIndex: 1095 entries, 2021-01-01 to 2023-12-31\n",
            "Data columns (total 6 columns):\n",
            " #   Column     Non-Null Count  Dtype  \n",
            "---  ------     --------------  -----  \n",
            " 0   Open       1095 non-null   float64\n",
            " 1   High       1095 non-null   float64\n",
            " 2   Low        1095 non-null   float64\n",
            " 3   Close      1095 non-null   float64\n",
            " 4   Adj Close  1095 non-null   float64\n",
            " 5   Volume     1095 non-null   int64  \n",
            "dtypes: float64(5), int64(1)\n",
            "memory usage: 59.9 KB\n",
            "None\n"
          ]
        }
      ]
    },
    {
      "cell_type": "markdown",
      "source": [
        "# **Check Missing Values And Create Additional Features**"
      ],
      "metadata": {
        "id": "5wyWBkQJU_Pr"
      }
    },
    {
      "cell_type": "code",
      "source": [
        "# Check for missing values\n",
        "print(btc_data.isnull().sum())\n",
        "\n",
        "# Fill missing values if any (forward fill method)\n",
        "btc_data.fillna(method='ffill', inplace=True)\n",
        "\n",
        "# Create additional features\n",
        "btc_data['Open-Close'] = btc_data['Open'] - btc_data['Close']\n",
        "btc_data['High-Low'] = btc_data['High'] - btc_data['Low']\n",
        "btc_data['Volume-Change'] = btc_data['Volume'].pct_change()\n",
        "\n",
        "# Drop rows with NaN values generated by pct_change\n",
        "btc_data.dropna(inplace=True)\n",
        "\n",
        "# Display the updated data\n",
        "print(btc_data.head())\n"
      ],
      "metadata": {
        "colab": {
          "base_uri": "https://localhost:8080/"
        },
        "id": "bWbz1YI-KV6L",
        "outputId": "6ef7f6a4-abd9-43e8-832a-04f27e01e647"
      },
      "execution_count": 20,
      "outputs": [
        {
          "output_type": "stream",
          "name": "stdout",
          "text": [
            "Open         0\n",
            "High         0\n",
            "Low          0\n",
            "Close        0\n",
            "Adj Close    0\n",
            "Volume       0\n",
            "dtype: int64\n",
            "                    Open          High           Low         Close  \\\n",
            "Date                                                                 \n",
            "2021-01-02  29376.455078  33155.117188  29091.181641  32127.267578   \n",
            "2021-01-03  32129.408203  34608.558594  32052.316406  32782.023438   \n",
            "2021-01-04  32810.949219  33440.218750  28722.755859  31971.914062   \n",
            "2021-01-05  31977.041016  34437.589844  30221.187500  33992.429688   \n",
            "2021-01-06  34013.613281  36879.699219  33514.035156  36824.363281   \n",
            "\n",
            "               Adj Close       Volume   Open-Close     High-Low  Volume-Change  \n",
            "Date                                                                            \n",
            "2021-01-02  32127.267578  67865420765 -2750.812500  4063.935547       0.666215  \n",
            "2021-01-03  32782.023438  78665235202  -652.615234  2556.242188       0.159136  \n",
            "2021-01-04  31971.914062  81163475344   839.035156  4717.462891       0.031758  \n",
            "2021-01-05  33992.429688  67547324782 -2015.388672  4216.402344      -0.167762  \n",
            "2021-01-06  36824.363281  75289433811 -2810.750000  3365.664062       0.114618  \n"
          ]
        }
      ]
    },
    {
      "cell_type": "markdown",
      "source": [
        "# **Features And Target**"
      ],
      "metadata": {
        "id": "PUn1iolyW-g1"
      }
    },
    {
      "cell_type": "code",
      "source": [
        "# Define the features and target\n",
        "features = ['Open-Close', 'High-Low', 'Volume-Change', 'Close']\n",
        "target = 'Close'\n",
        "\n",
        "# Create the input and output datasets\n",
        "X = btc_data[features]\n",
        "y = btc_data[target]\n",
        "\n",
        "# Shift the target to predict the next day's price\n",
        "y = y.shift(-1)\n",
        "X = X[:-1]\n",
        "y = y[:-1]\n"
      ],
      "metadata": {
        "id": "BLk8XFnWKZ0H"
      },
      "execution_count": 21,
      "outputs": []
    },
    {
      "cell_type": "code",
      "source": [
        "X\n"
      ],
      "metadata": {
        "id": "b36lawVzYzSp",
        "outputId": "fd010413-5abf-4286-ddbf-99e1e037cb6b",
        "colab": {
          "base_uri": "https://localhost:8080/",
          "height": 455
        }
      },
      "execution_count": 22,
      "outputs": [
        {
          "output_type": "execute_result",
          "data": {
            "text/plain": [
              "             Open-Close     High-Low  Volume-Change         Close\n",
              "Date                                                             \n",
              "2021-01-02 -2750.812500  4063.935547       0.666215  32127.267578\n",
              "2021-01-03  -652.615234  2556.242188       0.159136  32782.023438\n",
              "2021-01-04   839.035156  4717.462891       0.031758  31971.914062\n",
              "2021-01-05 -2015.388672  4216.402344      -0.167762  33992.429688\n",
              "2021-01-06 -2810.750000  3365.664062       0.114618  36824.363281\n",
              "...                 ...          ...            ...           ...\n",
              "2023-12-26  1079.445312  1926.687500       0.422009  42520.402344\n",
              "2023-12-27  -924.386719  1515.578125      -0.158722  43442.855469\n",
              "2023-12-28   840.343750  1486.230469      -0.089816  42627.855469\n",
              "2023-12-29   515.242188  1700.261719       0.130824  42099.402344\n",
              "2023-12-30   -65.148438  1027.898438      -0.384080  42156.902344\n",
              "\n",
              "[1093 rows x 4 columns]"
            ],
            "text/html": [
              "\n",
              "  <div id=\"df-d1a276a4-a898-4686-86f4-665a3fead22f\" class=\"colab-df-container\">\n",
              "    <div>\n",
              "<style scoped>\n",
              "    .dataframe tbody tr th:only-of-type {\n",
              "        vertical-align: middle;\n",
              "    }\n",
              "\n",
              "    .dataframe tbody tr th {\n",
              "        vertical-align: top;\n",
              "    }\n",
              "\n",
              "    .dataframe thead th {\n",
              "        text-align: right;\n",
              "    }\n",
              "</style>\n",
              "<table border=\"1\" class=\"dataframe\">\n",
              "  <thead>\n",
              "    <tr style=\"text-align: right;\">\n",
              "      <th></th>\n",
              "      <th>Open-Close</th>\n",
              "      <th>High-Low</th>\n",
              "      <th>Volume-Change</th>\n",
              "      <th>Close</th>\n",
              "    </tr>\n",
              "    <tr>\n",
              "      <th>Date</th>\n",
              "      <th></th>\n",
              "      <th></th>\n",
              "      <th></th>\n",
              "      <th></th>\n",
              "    </tr>\n",
              "  </thead>\n",
              "  <tbody>\n",
              "    <tr>\n",
              "      <th>2021-01-02</th>\n",
              "      <td>-2750.812500</td>\n",
              "      <td>4063.935547</td>\n",
              "      <td>0.666215</td>\n",
              "      <td>32127.267578</td>\n",
              "    </tr>\n",
              "    <tr>\n",
              "      <th>2021-01-03</th>\n",
              "      <td>-652.615234</td>\n",
              "      <td>2556.242188</td>\n",
              "      <td>0.159136</td>\n",
              "      <td>32782.023438</td>\n",
              "    </tr>\n",
              "    <tr>\n",
              "      <th>2021-01-04</th>\n",
              "      <td>839.035156</td>\n",
              "      <td>4717.462891</td>\n",
              "      <td>0.031758</td>\n",
              "      <td>31971.914062</td>\n",
              "    </tr>\n",
              "    <tr>\n",
              "      <th>2021-01-05</th>\n",
              "      <td>-2015.388672</td>\n",
              "      <td>4216.402344</td>\n",
              "      <td>-0.167762</td>\n",
              "      <td>33992.429688</td>\n",
              "    </tr>\n",
              "    <tr>\n",
              "      <th>2021-01-06</th>\n",
              "      <td>-2810.750000</td>\n",
              "      <td>3365.664062</td>\n",
              "      <td>0.114618</td>\n",
              "      <td>36824.363281</td>\n",
              "    </tr>\n",
              "    <tr>\n",
              "      <th>...</th>\n",
              "      <td>...</td>\n",
              "      <td>...</td>\n",
              "      <td>...</td>\n",
              "      <td>...</td>\n",
              "    </tr>\n",
              "    <tr>\n",
              "      <th>2023-12-26</th>\n",
              "      <td>1079.445312</td>\n",
              "      <td>1926.687500</td>\n",
              "      <td>0.422009</td>\n",
              "      <td>42520.402344</td>\n",
              "    </tr>\n",
              "    <tr>\n",
              "      <th>2023-12-27</th>\n",
              "      <td>-924.386719</td>\n",
              "      <td>1515.578125</td>\n",
              "      <td>-0.158722</td>\n",
              "      <td>43442.855469</td>\n",
              "    </tr>\n",
              "    <tr>\n",
              "      <th>2023-12-28</th>\n",
              "      <td>840.343750</td>\n",
              "      <td>1486.230469</td>\n",
              "      <td>-0.089816</td>\n",
              "      <td>42627.855469</td>\n",
              "    </tr>\n",
              "    <tr>\n",
              "      <th>2023-12-29</th>\n",
              "      <td>515.242188</td>\n",
              "      <td>1700.261719</td>\n",
              "      <td>0.130824</td>\n",
              "      <td>42099.402344</td>\n",
              "    </tr>\n",
              "    <tr>\n",
              "      <th>2023-12-30</th>\n",
              "      <td>-65.148438</td>\n",
              "      <td>1027.898438</td>\n",
              "      <td>-0.384080</td>\n",
              "      <td>42156.902344</td>\n",
              "    </tr>\n",
              "  </tbody>\n",
              "</table>\n",
              "<p>1093 rows × 4 columns</p>\n",
              "</div>\n",
              "    <div class=\"colab-df-buttons\">\n",
              "\n",
              "  <div class=\"colab-df-container\">\n",
              "    <button class=\"colab-df-convert\" onclick=\"convertToInteractive('df-d1a276a4-a898-4686-86f4-665a3fead22f')\"\n",
              "            title=\"Convert this dataframe to an interactive table.\"\n",
              "            style=\"display:none;\">\n",
              "\n",
              "  <svg xmlns=\"http://www.w3.org/2000/svg\" height=\"24px\" viewBox=\"0 -960 960 960\">\n",
              "    <path d=\"M120-120v-720h720v720H120Zm60-500h600v-160H180v160Zm220 220h160v-160H400v160Zm0 220h160v-160H400v160ZM180-400h160v-160H180v160Zm440 0h160v-160H620v160ZM180-180h160v-160H180v160Zm440 0h160v-160H620v160Z\"/>\n",
              "  </svg>\n",
              "    </button>\n",
              "\n",
              "  <style>\n",
              "    .colab-df-container {\n",
              "      display:flex;\n",
              "      gap: 12px;\n",
              "    }\n",
              "\n",
              "    .colab-df-convert {\n",
              "      background-color: #E8F0FE;\n",
              "      border: none;\n",
              "      border-radius: 50%;\n",
              "      cursor: pointer;\n",
              "      display: none;\n",
              "      fill: #1967D2;\n",
              "      height: 32px;\n",
              "      padding: 0 0 0 0;\n",
              "      width: 32px;\n",
              "    }\n",
              "\n",
              "    .colab-df-convert:hover {\n",
              "      background-color: #E2EBFA;\n",
              "      box-shadow: 0px 1px 2px rgba(60, 64, 67, 0.3), 0px 1px 3px 1px rgba(60, 64, 67, 0.15);\n",
              "      fill: #174EA6;\n",
              "    }\n",
              "\n",
              "    .colab-df-buttons div {\n",
              "      margin-bottom: 4px;\n",
              "    }\n",
              "\n",
              "    [theme=dark] .colab-df-convert {\n",
              "      background-color: #3B4455;\n",
              "      fill: #D2E3FC;\n",
              "    }\n",
              "\n",
              "    [theme=dark] .colab-df-convert:hover {\n",
              "      background-color: #434B5C;\n",
              "      box-shadow: 0px 1px 3px 1px rgba(0, 0, 0, 0.15);\n",
              "      filter: drop-shadow(0px 1px 2px rgba(0, 0, 0, 0.3));\n",
              "      fill: #FFFFFF;\n",
              "    }\n",
              "  </style>\n",
              "\n",
              "    <script>\n",
              "      const buttonEl =\n",
              "        document.querySelector('#df-d1a276a4-a898-4686-86f4-665a3fead22f button.colab-df-convert');\n",
              "      buttonEl.style.display =\n",
              "        google.colab.kernel.accessAllowed ? 'block' : 'none';\n",
              "\n",
              "      async function convertToInteractive(key) {\n",
              "        const element = document.querySelector('#df-d1a276a4-a898-4686-86f4-665a3fead22f');\n",
              "        const dataTable =\n",
              "          await google.colab.kernel.invokeFunction('convertToInteractive',\n",
              "                                                    [key], {});\n",
              "        if (!dataTable) return;\n",
              "\n",
              "        const docLinkHtml = 'Like what you see? Visit the ' +\n",
              "          '<a target=\"_blank\" href=https://colab.research.google.com/notebooks/data_table.ipynb>data table notebook</a>'\n",
              "          + ' to learn more about interactive tables.';\n",
              "        element.innerHTML = '';\n",
              "        dataTable['output_type'] = 'display_data';\n",
              "        await google.colab.output.renderOutput(dataTable, element);\n",
              "        const docLink = document.createElement('div');\n",
              "        docLink.innerHTML = docLinkHtml;\n",
              "        element.appendChild(docLink);\n",
              "      }\n",
              "    </script>\n",
              "  </div>\n",
              "\n",
              "\n",
              "<div id=\"df-0b4881c8-524e-44e5-9d78-88bc3c0d3618\">\n",
              "  <button class=\"colab-df-quickchart\" onclick=\"quickchart('df-0b4881c8-524e-44e5-9d78-88bc3c0d3618')\"\n",
              "            title=\"Suggest charts\"\n",
              "            style=\"display:none;\">\n",
              "\n",
              "<svg xmlns=\"http://www.w3.org/2000/svg\" height=\"24px\"viewBox=\"0 0 24 24\"\n",
              "     width=\"24px\">\n",
              "    <g>\n",
              "        <path d=\"M19 3H5c-1.1 0-2 .9-2 2v14c0 1.1.9 2 2 2h14c1.1 0 2-.9 2-2V5c0-1.1-.9-2-2-2zM9 17H7v-7h2v7zm4 0h-2V7h2v10zm4 0h-2v-4h2v4z\"/>\n",
              "    </g>\n",
              "</svg>\n",
              "  </button>\n",
              "\n",
              "<style>\n",
              "  .colab-df-quickchart {\n",
              "      --bg-color: #E8F0FE;\n",
              "      --fill-color: #1967D2;\n",
              "      --hover-bg-color: #E2EBFA;\n",
              "      --hover-fill-color: #174EA6;\n",
              "      --disabled-fill-color: #AAA;\n",
              "      --disabled-bg-color: #DDD;\n",
              "  }\n",
              "\n",
              "  [theme=dark] .colab-df-quickchart {\n",
              "      --bg-color: #3B4455;\n",
              "      --fill-color: #D2E3FC;\n",
              "      --hover-bg-color: #434B5C;\n",
              "      --hover-fill-color: #FFFFFF;\n",
              "      --disabled-bg-color: #3B4455;\n",
              "      --disabled-fill-color: #666;\n",
              "  }\n",
              "\n",
              "  .colab-df-quickchart {\n",
              "    background-color: var(--bg-color);\n",
              "    border: none;\n",
              "    border-radius: 50%;\n",
              "    cursor: pointer;\n",
              "    display: none;\n",
              "    fill: var(--fill-color);\n",
              "    height: 32px;\n",
              "    padding: 0;\n",
              "    width: 32px;\n",
              "  }\n",
              "\n",
              "  .colab-df-quickchart:hover {\n",
              "    background-color: var(--hover-bg-color);\n",
              "    box-shadow: 0 1px 2px rgba(60, 64, 67, 0.3), 0 1px 3px 1px rgba(60, 64, 67, 0.15);\n",
              "    fill: var(--button-hover-fill-color);\n",
              "  }\n",
              "\n",
              "  .colab-df-quickchart-complete:disabled,\n",
              "  .colab-df-quickchart-complete:disabled:hover {\n",
              "    background-color: var(--disabled-bg-color);\n",
              "    fill: var(--disabled-fill-color);\n",
              "    box-shadow: none;\n",
              "  }\n",
              "\n",
              "  .colab-df-spinner {\n",
              "    border: 2px solid var(--fill-color);\n",
              "    border-color: transparent;\n",
              "    border-bottom-color: var(--fill-color);\n",
              "    animation:\n",
              "      spin 1s steps(1) infinite;\n",
              "  }\n",
              "\n",
              "  @keyframes spin {\n",
              "    0% {\n",
              "      border-color: transparent;\n",
              "      border-bottom-color: var(--fill-color);\n",
              "      border-left-color: var(--fill-color);\n",
              "    }\n",
              "    20% {\n",
              "      border-color: transparent;\n",
              "      border-left-color: var(--fill-color);\n",
              "      border-top-color: var(--fill-color);\n",
              "    }\n",
              "    30% {\n",
              "      border-color: transparent;\n",
              "      border-left-color: var(--fill-color);\n",
              "      border-top-color: var(--fill-color);\n",
              "      border-right-color: var(--fill-color);\n",
              "    }\n",
              "    40% {\n",
              "      border-color: transparent;\n",
              "      border-right-color: var(--fill-color);\n",
              "      border-top-color: var(--fill-color);\n",
              "    }\n",
              "    60% {\n",
              "      border-color: transparent;\n",
              "      border-right-color: var(--fill-color);\n",
              "    }\n",
              "    80% {\n",
              "      border-color: transparent;\n",
              "      border-right-color: var(--fill-color);\n",
              "      border-bottom-color: var(--fill-color);\n",
              "    }\n",
              "    90% {\n",
              "      border-color: transparent;\n",
              "      border-bottom-color: var(--fill-color);\n",
              "    }\n",
              "  }\n",
              "</style>\n",
              "\n",
              "  <script>\n",
              "    async function quickchart(key) {\n",
              "      const quickchartButtonEl =\n",
              "        document.querySelector('#' + key + ' button');\n",
              "      quickchartButtonEl.disabled = true;  // To prevent multiple clicks.\n",
              "      quickchartButtonEl.classList.add('colab-df-spinner');\n",
              "      try {\n",
              "        const charts = await google.colab.kernel.invokeFunction(\n",
              "            'suggestCharts', [key], {});\n",
              "      } catch (error) {\n",
              "        console.error('Error during call to suggestCharts:', error);\n",
              "      }\n",
              "      quickchartButtonEl.classList.remove('colab-df-spinner');\n",
              "      quickchartButtonEl.classList.add('colab-df-quickchart-complete');\n",
              "    }\n",
              "    (() => {\n",
              "      let quickchartButtonEl =\n",
              "        document.querySelector('#df-0b4881c8-524e-44e5-9d78-88bc3c0d3618 button');\n",
              "      quickchartButtonEl.style.display =\n",
              "        google.colab.kernel.accessAllowed ? 'block' : 'none';\n",
              "    })();\n",
              "  </script>\n",
              "</div>\n",
              "    </div>\n",
              "  </div>\n"
            ],
            "application/vnd.google.colaboratory.intrinsic+json": {
              "type": "dataframe",
              "variable_name": "X",
              "summary": "{\n  \"name\": \"X\",\n  \"rows\": 1093,\n  \"fields\": [\n    {\n      \"column\": \"Date\",\n      \"properties\": {\n        \"dtype\": \"date\",\n        \"min\": \"2021-01-02 00:00:00\",\n        \"max\": \"2023-12-30 00:00:00\",\n        \"num_unique_values\": 1093,\n        \"samples\": [\n          \"2022-04-29 00:00:00\",\n          \"2021-05-21 00:00:00\",\n          \"2021-03-31 00:00:00\"\n        ],\n        \"semantic_type\": \"\",\n        \"description\": \"\"\n      }\n    },\n    {\n      \"column\": \"Open-Close\",\n      \"properties\": {\n        \"dtype\": \"number\",\n        \"std\": 1308.0982516294118,\n        \"min\": -7309.63671875,\n        \"max\": 7563.99609375,\n        \"num_unique_values\": 1093,\n        \"samples\": [\n          1158.79296875,\n          3292.2578125,\n          11.4453125\n        ],\n        \"semantic_type\": \"\",\n        \"description\": \"\"\n      }\n    },\n    {\n      \"column\": \"High-Low\",\n      \"properties\": {\n        \"dtype\": \"number\",\n        \"std\": 1443.4584303110857,\n        \"min\": 60.826171875,\n        \"max\": 12864.62109375,\n        \"num_unique_values\": 1093,\n        \"samples\": [\n          1651.734375,\n          8555.71875,\n          2203.609375\n        ],\n        \"semantic_type\": \"\",\n        \"description\": \"\"\n      }\n    },\n    {\n      \"column\": \"Volume-Change\",\n      \"properties\": {\n        \"dtype\": \"number\",\n        \"std\": 0.38466147435600034,\n        \"min\": -0.8691876352337808,\n        \"max\": 5.439002996581901,\n        \"num_unique_values\": 1093,\n        \"samples\": [\n          -0.08909675996431654,\n          -0.07057305560961968,\n          0.2041144930999621\n        ],\n        \"semantic_type\": \"\",\n        \"description\": \"\"\n      }\n    },\n    {\n      \"column\": \"Close\",\n      \"properties\": {\n        \"dtype\": \"number\",\n        \"std\": 12564.476015070477,\n        \"min\": 15787.2841796875,\n        \"max\": 67566.828125,\n        \"num_unique_values\": 1093,\n        \"samples\": [\n          38609.82421875,\n          37304.69140625,\n          58918.83203125\n        ],\n        \"semantic_type\": \"\",\n        \"description\": \"\"\n      }\n    }\n  ]\n}"
            }
          },
          "metadata": {},
          "execution_count": 22
        }
      ]
    },
    {
      "cell_type": "code",
      "source": [
        "y"
      ],
      "metadata": {
        "id": "PAS-hfL_Y9qv",
        "outputId": "4a09a6fc-0a15-4a1a-813e-5992c4474c59",
        "colab": {
          "base_uri": "https://localhost:8080/"
        }
      },
      "execution_count": 23,
      "outputs": [
        {
          "output_type": "execute_result",
          "data": {
            "text/plain": [
              "Date\n",
              "2021-01-02    32782.023438\n",
              "2021-01-03    31971.914062\n",
              "2021-01-04    33992.429688\n",
              "2021-01-05    36824.363281\n",
              "2021-01-06    39371.042969\n",
              "                  ...     \n",
              "2023-12-26    43442.855469\n",
              "2023-12-27    42627.855469\n",
              "2023-12-28    42099.402344\n",
              "2023-12-29    42156.902344\n",
              "2023-12-30    42265.187500\n",
              "Name: Close, Length: 1093, dtype: float64"
            ]
          },
          "metadata": {},
          "execution_count": 23
        }
      ]
    },
    {
      "cell_type": "code",
      "source": [],
      "metadata": {
        "id": "OS07eC3DY-hJ"
      },
      "execution_count": null,
      "outputs": []
    },
    {
      "cell_type": "markdown",
      "source": [
        "# **Split the data**"
      ],
      "metadata": {
        "id": "ePiuAgLtYUYp"
      }
    },
    {
      "cell_type": "code",
      "source": [
        "from sklearn.model_selection import train_test_split\n",
        "\n",
        "# Split the data\n",
        "X_train, X_test, y_train, y_test = train_test_split(X, y, test_size=0.2, random_state=42, shuffle=False)\n"
      ],
      "metadata": {
        "id": "JoC05GMvKg0q"
      },
      "execution_count": 24,
      "outputs": []
    },
    {
      "cell_type": "markdown",
      "source": [
        "# **Train The Model**"
      ],
      "metadata": {
        "id": "xrR6lO6vZfmR"
      }
    },
    {
      "cell_type": "code",
      "source": [
        "from sklearn.ensemble import RandomForestRegressor\n",
        "from sklearn.metrics import mean_squared_error\n",
        "\n",
        "# Initialize the model\n",
        "rf = RandomForestRegressor(n_estimators=100, random_state=42)\n",
        "\n",
        "# Train the model\n",
        "rf.fit(X_train, y_train)\n",
        "\n",
        "\n"
      ],
      "metadata": {
        "id": "Kv9cSO9QKjZM"
      },
      "execution_count": 25,
      "outputs": []
    },
    {
      "cell_type": "markdown",
      "source": [
        "# **Make Predictions**"
      ],
      "metadata": {
        "id": "_e_OgbQHbbV5"
      }
    },
    {
      "cell_type": "code",
      "source": [
        "# Predict on the test set\n",
        "y_pred = rf.predict(X_test)\n",
        "\n",
        "# Display the first few predictions\n",
        "print(y_pred[:5])"
      ],
      "metadata": {
        "id": "GiHMLxxybedH",
        "outputId": "10f5059d-3d5b-44eb-e2e3-7c8c23d225a7",
        "colab": {
          "base_uri": "https://localhost:8080/"
        }
      },
      "execution_count": 32,
      "outputs": [
        {
          "output_type": "stream",
          "name": "stdout",
          "text": [
            "[26701.68300781 27089.69916016 28030.26783203 27998.37115234\n",
            " 27830.46429688]\n"
          ]
        }
      ]
    },
    {
      "cell_type": "markdown",
      "source": [
        "# **Evaluate the Model**"
      ],
      "metadata": {
        "id": "v6Bm5MFMaFC1"
      }
    },
    {
      "cell_type": "code",
      "source": [
        "# Calculate Mean Squared Error\n",
        "mse = mean_squared_error(y_test, y_pred)\n",
        "print(f'Mean Squared Error: {mse}')"
      ],
      "metadata": {
        "colab": {
          "base_uri": "https://localhost:8080/"
        },
        "id": "gHXYOzy-KmDv",
        "outputId": "9f4582ec-aea3-4961-b02f-18827b0fbfcf"
      },
      "execution_count": 26,
      "outputs": [
        {
          "output_type": "stream",
          "name": "stdout",
          "text": [
            "Mean Squared Error: 981974.058645725\n"
          ]
        }
      ]
    },
    {
      "cell_type": "markdown",
      "source": [
        "# **Plot the Variance**"
      ],
      "metadata": {
        "id": "9MDVJEKOZzQW"
      }
    },
    {
      "cell_type": "code",
      "source": [
        "# Plot the actual vs predicted prices\n",
        "import matplotlib.pyplot as plt\n",
        "\n",
        "plt.figure(figsize=(14, 7))\n",
        "plt.plot(y_test.index, y_test.values, label='Actual Prices', color='b')\n",
        "plt.plot(y_test.index, y_pred, label='Predicted Prices', color='r')\n",
        "plt.xlabel('Date')\n",
        "plt.ylabel('Bitcoin Price')\n",
        "plt.title('Actual vs Predicted Bitcoin Prices')\n",
        "plt.legend()\n",
        "plt.show()"
      ],
      "metadata": {
        "id": "F4D8ttbvZxxs",
        "outputId": "3e31b5bb-06c5-4295-e9b1-5578648d8ff8",
        "colab": {
          "base_uri": "https://localhost:8080/",
          "height": 641
        }
      },
      "execution_count": 33,
      "outputs": [
        {
          "output_type": "display_data",
          "data": {
            "text/plain": [
              "<Figure size 1400x700 with 1 Axes>"
            ],
            "image/png": "[encoded data removed]"
          },
          "metadata": {}
        }
      ]
    }
  ]
}