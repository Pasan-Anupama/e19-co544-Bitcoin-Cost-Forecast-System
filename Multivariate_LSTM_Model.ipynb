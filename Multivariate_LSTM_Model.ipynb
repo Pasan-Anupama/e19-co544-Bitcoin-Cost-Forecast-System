{
  "nbformat": 4,
  "nbformat_minor": 0,
  "metadata": {
    "colab": {
      "provenance": [],
      "authorship_tag": "ABX9TyMHCUKpQgHVDWoylagTcrTq",
      "include_colab_link": true
    },
    "kernelspec": {
      "name": "python3",
      "display_name": "Python 3"
    },
    "language_info": {
      "name": "python"
    }
  },
  "cells": [
    {
      "cell_type": "markdown",
      "metadata": {
        "id": "view-in-github",
        "colab_type": "text"
      },
      "source": [
        "<a href=\"https://colab.research.google.com/github/cepdnaclk/e19-CO544-Bitcoin-Cost-Forecast-System/blob/main/Multivariate_LSTM_Model.ipynb\" target=\"_parent\"><img src=\"https://colab.research.google.com/assets/colab-badge.svg\" alt=\"Open In Colab\"/></a>"
      ]
    },
    {
      "cell_type": "markdown",
      "source": [
        "# Import Data"
      ],
      "metadata": {
        "id": "0Eu-cIc3tKs2"
      }
    },
    {
      "cell_type": "code",
      "execution_count": 1,
      "metadata": {
        "colab": {
          "base_uri": "https://localhost:8080/"
        },
        "id": "nlXU7vyBtDlM",
        "outputId": "ed75ff44-f5f9-43d2-a735-0e4430637d99"
      },
      "outputs": [
        {
          "output_type": "stream",
          "name": "stdout",
          "text": [
            "                                 Open        High         Low       Close  \\\n",
            "Date                                                                        \n",
            "2014-09-17 00:00:00+00:00  465.864014  468.174011  452.421997  457.334015   \n",
            "2014-09-18 00:00:00+00:00  456.859985  456.859985  413.104004  424.440002   \n",
            "2014-09-19 00:00:00+00:00  424.102997  427.834991  384.532013  394.795990   \n",
            "2014-09-20 00:00:00+00:00  394.673004  423.295990  389.882996  408.903992   \n",
            "2014-09-21 00:00:00+00:00  408.084991  412.425995  393.181000  398.821014   \n",
            "\n",
            "                             Volume  \n",
            "Date                                 \n",
            "2014-09-17 00:00:00+00:00  21056800  \n",
            "2014-09-18 00:00:00+00:00  34483200  \n",
            "2014-09-19 00:00:00+00:00  37919700  \n",
            "2014-09-20 00:00:00+00:00  36863600  \n",
            "2014-09-21 00:00:00+00:00  26580100  \n"
          ]
        }
      ],
      "source": [
        "import yfinance as yf\n",
        "import pandas as pd\n",
        "\n",
        "# Define the ticker simbol for Bitcoin\n",
        "ticker = 'BTC-USD'\n",
        "\n",
        "# Get historical market data\n",
        "hist = yf.Ticker(ticker).history(period=\"max\")\n",
        "\n",
        "# Making the 'Date' as the index\n",
        "hist.index = pd.to_datetime(hist.index)\n",
        "\n",
        "# Drop the \"Dividends\" column and \"Stock Splits\" column\n",
        "hist.drop(columns = ['Dividends', 'Stock Splits'], inplace = True)\n",
        "\n",
        "# Print the data\n",
        "print(hist.head())"
      ]
    },
    {
      "cell_type": "markdown",
      "source": [
        "# Set Inputs and Outputs"
      ],
      "metadata": {
        "id": "ngTHFwGRO4bs"
      }
    },
    {
      "cell_type": "code",
      "source": [
        "X, y = hist.drop(columns = ['Close']), hist.Close.values\n",
        "X.shape, y.shape"
      ],
      "metadata": {
        "colab": {
          "base_uri": "https://localhost:8080/"
        },
        "id": "kH9k_HqcO9yv",
        "outputId": "119030b3-c2ab-427e-fa41-3f35d3074dea"
      },
      "execution_count": 2,
      "outputs": [
        {
          "output_type": "execute_result",
          "data": {
            "text/plain": [
              "((3516, 4), (3516,))"
            ]
          },
          "metadata": {},
          "execution_count": 2
        }
      ]
    },
    {
      "cell_type": "markdown",
      "source": [
        "## Standardize Features"
      ],
      "metadata": {
        "id": "CnhD38aQQKq3"
      }
    },
    {
      "cell_type": "code",
      "source": [
        "from sklearn.preprocessing import StandardScaler, MinMaxScaler\n",
        "mm = MinMaxScaler()\n",
        "ss = StandardScaler()\n",
        "\n",
        "X_trans = ss.fit_transform(X)\n",
        "y_trans = mm.fit_transform(y.reshape(-1, 1))"
      ],
      "metadata": {
        "id": "u5nkD1Y9QQvr"
      },
      "execution_count": 3,
      "outputs": []
    },
    {
      "cell_type": "markdown",
      "source": [
        "## Split a multivariate sequence past, future samples (X abd y)"
      ],
      "metadata": {
        "id": "6eFRNszUYFtV"
      }
    },
    {
      "cell_type": "code",
      "source": [
        "import numpy as np\n",
        "\n",
        "# split a multivariate sequence past, future samples (X and y)\n",
        "def split_sequences(input_sequences, output_sequence, n_steps_in, n_steps_out):\n",
        "\n",
        "    X, y = list(), list() # instantiate X and y\n",
        "\n",
        "    for i in range(len(input_sequences)):\n",
        "\n",
        "        # find the end of the input, output sequence\n",
        "        end_ix = i + n_steps_in\n",
        "        out_end_ix = end_ix + n_steps_out - 1\n",
        "\n",
        "        # check if we are beyond the dataset\n",
        "        if out_end_ix > len(input_sequences): break\n",
        "\n",
        "        # gather input and output of the pattern\n",
        "        seq_x, seq_y = input_sequences[i:end_ix], output_sequence[end_ix-1:out_end_ix, -1]\n",
        "        X.append(seq_x), y.append(seq_y)\n",
        "\n",
        "    return np.array(X), np.array(y)\n",
        "\n",
        "X_ss, y_mm = split_sequences(X_trans, y_trans, 100, 1)\n",
        "print(X_ss.shape, y_mm.shape)"
      ],
      "metadata": {
        "colab": {
          "base_uri": "https://localhost:8080/"
        },
        "id": "E14kM5v_YNoC",
        "outputId": "07c799f6-be3e-4863-f1a6-ad1f04807298"
      },
      "execution_count": 5,
      "outputs": [
        {
          "output_type": "stream",
          "name": "stdout",
          "text": [
            "(3417, 100, 4) (3417, 1)\n"
          ]
        }
      ]
    },
    {
      "cell_type": "markdown",
      "source": [
        "## Check the y_mm sample"
      ],
      "metadata": {
        "id": "3H5EB5XLaCW9"
      }
    },
    {
      "cell_type": "code",
      "source": [
        "print(\"y_mm[0]:\", y_mm[0])\n",
        "print(\"y_trans[99:149].squeeze(1):\", y_trans[99:149].squeeze(1))\n",
        "\n",
        "assert y_mm[0].all() == y_trans[99:100].squeeze(1).all()\n",
        "\n",
        "y_mm[0]"
      ],
      "metadata": {
        "colab": {
          "base_uri": "https://localhost:8080/"
        },
        "id": "FHCCou3QaUZ7",
        "outputId": "ffd438a3-6ac4-4942-e1af-885eecff0489"
      },
      "execution_count": 9,
      "outputs": [
        {
          "output_type": "stream",
          "name": "stdout",
          "text": [
            "y_mm[0]: [0.00193271]\n",
            "y_trans[99:149].squeeze(1): [0.00193271 0.00205501 0.00188957 0.00190845 0.00184578 0.00181926\n",
            " 0.00194896 0.00186743 0.00187817 0.0014125  0.00118087 0.00132186\n",
            " 0.00148255 0.00159431 0.0014436  0.00154042 0.00132628 0.00120097\n",
            " 0.00123027 0.00065507 0.         0.00043537 0.00041141 0.0002902\n",
            " 0.00044216 0.00050419 0.00045555 0.00066928 0.00075856 0.00075133\n",
            " 0.00095664 0.00103717 0.00130813 0.001171   0.00076554 0.00076003\n",
            " 0.0006628  0.00053989 0.00067031 0.00082471 0.00067437 0.00066867\n",
            " 0.00053505 0.00060576 0.00068103 0.00062148 0.00057619 0.00057247\n",
            " 0.0005635  0.00059887]\n"
          ]
        },
        {
          "output_type": "execute_result",
          "data": {
            "text/plain": [
              "array([0.00193271])"
            ]
          },
          "metadata": {},
          "execution_count": 9
        }
      ]
    },
    {
      "cell_type": "code",
      "source": [
        "y_trans[99:100].squeeze(1)"
      ],
      "metadata": {
        "colab": {
          "base_uri": "https://localhost:8080/"
        },
        "id": "aPWIL8r0bl_U",
        "outputId": "157a77f0-55cb-4674-bd21-3078a4a2e1c9"
      },
      "execution_count": 10,
      "outputs": [
        {
          "output_type": "execute_result",
          "data": {
            "text/plain": [
              "array([0.00193271])"
            ]
          },
          "metadata": {},
          "execution_count": 10
        }
      ]
    },
    {
      "cell_type": "markdown",
      "source": [
        "## Split Training & Test Sets"
      ],
      "metadata": {
        "id": "9dobE9Epb86R"
      }
    },
    {
      "cell_type": "code",
      "source": [
        "total_samples = len(X)\n",
        "train_test_cutoff = round(0.90 * total_samples)\n",
        "\n",
        "X_train = X_ss[:-150]\n",
        "X_test = X_ss[-150:]\n",
        "\n",
        "y_train = y_mm[:-150]\n",
        "y_test = y_mm[-150:]\n",
        "\n",
        "print(\"Training Shape:\", X_train.shape, y_train.shape)\n",
        "print(\"Testing Shape:\", X_test.shape, y_test.shape)"
      ],
      "metadata": {
        "colab": {
          "base_uri": "https://localhost:8080/"
        },
        "id": "1n5K3gJScD4y",
        "outputId": "44a3bda5-1384-4d0b-8e24-93ee977a818e"
      },
      "execution_count": 11,
      "outputs": [
        {
          "output_type": "stream",
          "name": "stdout",
          "text": [
            "Training Shape: (3267, 100, 4) (3267, 1)\n",
            "Testing Shape: (150, 100, 4) (150, 1)\n"
          ]
        }
      ]
    }
  ]
}